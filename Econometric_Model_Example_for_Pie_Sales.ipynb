{
  "nbformat": 4,
  "nbformat_minor": 0,
  "metadata": {
    "colab": {
      "name": "Econometric Model Example for Pie Sales.ipynb",
      "provenance": [],
      "authorship_tag": "ABX9TyP/LHRJTwurYqtbOojawpVN",
      "include_colab_link": true
    },
    "kernelspec": {
      "name": "python3",
      "display_name": "Python 3"
    },
    "language_info": {
      "name": "python"
    }
  },
  "cells": [
    {
      "cell_type": "markdown",
      "metadata": {
        "id": "view-in-github",
        "colab_type": "text"
      },
      "source": [
        "<a href=\"https://colab.research.google.com/github/wcrowley342/Lesson_Regression_Pie_Sales_Econometrics/blob/main/Econometric_Model_Example_for_Pie_Sales.ipynb\" target=\"_parent\"><img src=\"https://colab.research.google.com/assets/colab-badge.svg\" alt=\"Open In Colab\"/></a>"
      ]
    },
    {
      "cell_type": "markdown",
      "metadata": {
        "id": "xgMKX5paeZnW"
      },
      "source": [
        "link to data:\n",
        "https://docs.google.com/spreadsheets/d/1RFn1cHQnpqRln8dbEer4L_kZphtHRMxxxKqYlrmcUfg/edit#gid=0\n",
        "\n",
        "link to article:\n",
        "https://www.saxifrage.xyz/post/econometrics-python\n",
        "\n",
        "link to colab template:\n",
        "https://colab.research.google.com/drive/1l1LVOwCe5EEOgRe_yh9FgzcDBhmO-yMN"
      ]
    },
    {
      "cell_type": "code",
      "metadata": {
        "colab": {
          "base_uri": "https://localhost:8080/",
          "height": 206
        },
        "id": "PH10T41Ad_Vy",
        "outputId": "39bcf49f-91fd-426c-bb55-de1f4109b9e7"
      },
      "source": [
        "#import the data\n",
        "import pandas as pd\n",
        "data = pd.read_csv('pie_sales - data.csv')\n",
        "data.head()"
      ],
      "execution_count": null,
      "outputs": [
        {
          "output_type": "execute_result",
          "data": {
            "text/html": [
              "<div>\n",
              "<style scoped>\n",
              "    .dataframe tbody tr th:only-of-type {\n",
              "        vertical-align: middle;\n",
              "    }\n",
              "\n",
              "    .dataframe tbody tr th {\n",
              "        vertical-align: top;\n",
              "    }\n",
              "\n",
              "    .dataframe thead th {\n",
              "        text-align: right;\n",
              "    }\n",
              "</style>\n",
              "<table border=\"1\" class=\"dataframe\">\n",
              "  <thead>\n",
              "    <tr style=\"text-align: right;\">\n",
              "      <th></th>\n",
              "      <th>Week</th>\n",
              "      <th>Pie Sales ($1,000s)</th>\n",
              "      <th>Price ($)</th>\n",
              "      <th>Advertising ($1,000s)</th>\n",
              "      <th>Holiday</th>\n",
              "    </tr>\n",
              "  </thead>\n",
              "  <tbody>\n",
              "    <tr>\n",
              "      <th>0</th>\n",
              "      <td>1</td>\n",
              "      <td>350</td>\n",
              "      <td>5.5</td>\n",
              "      <td>3.3</td>\n",
              "      <td>0</td>\n",
              "    </tr>\n",
              "    <tr>\n",
              "      <th>1</th>\n",
              "      <td>2</td>\n",
              "      <td>460</td>\n",
              "      <td>7.5</td>\n",
              "      <td>3.3</td>\n",
              "      <td>1</td>\n",
              "    </tr>\n",
              "    <tr>\n",
              "      <th>2</th>\n",
              "      <td>3</td>\n",
              "      <td>350</td>\n",
              "      <td>8.0</td>\n",
              "      <td>3.0</td>\n",
              "      <td>0</td>\n",
              "    </tr>\n",
              "    <tr>\n",
              "      <th>3</th>\n",
              "      <td>4</td>\n",
              "      <td>430</td>\n",
              "      <td>8.0</td>\n",
              "      <td>4.5</td>\n",
              "      <td>1</td>\n",
              "    </tr>\n",
              "    <tr>\n",
              "      <th>4</th>\n",
              "      <td>5</td>\n",
              "      <td>350</td>\n",
              "      <td>6.8</td>\n",
              "      <td>3.0</td>\n",
              "      <td>0</td>\n",
              "    </tr>\n",
              "  </tbody>\n",
              "</table>\n",
              "</div>"
            ],
            "text/plain": [
              "   Week  Pie Sales ($1,000s)  Price ($)  Advertising ($1,000s)  Holiday\n",
              "0     1                  350        5.5                    3.3        0\n",
              "1     2                  460        7.5                    3.3        1\n",
              "2     3                  350        8.0                    3.0        0\n",
              "3     4                  430        8.0                    4.5        1\n",
              "4     5                  350        6.8                    3.0        0"
            ]
          },
          "metadata": {},
          "execution_count": 1
        }
      ]
    },
    {
      "cell_type": "code",
      "metadata": {
        "colab": {
          "base_uri": "https://localhost:8080/",
          "height": 206
        },
        "id": "OeWNh35Pf6fD",
        "outputId": "92ca2e8c-60e5-4c82-b9c5-f42587b8c236"
      },
      "source": [
        "#cleaning the data \n",
        "\n",
        "#copying out the data\n",
        "df = data.copy()\n",
        "\n",
        "df.drop('Week', axis='columns', inplace=True)\n",
        "df.index = df.index + 1 #to match week number\n",
        "\n",
        "cols = {\n",
        "    'Pie Sales ($1,000s)': 'sales',\n",
        "    'Price ($)': 'price',\n",
        "    'Advertising ($1,000s)': 'ads',\n",
        "    'Holiday': 'holiday'\n",
        "}\n",
        "\n",
        "df.rename(columns=cols, inplace=True)\n",
        "\n",
        "df.head()\n"
      ],
      "execution_count": null,
      "outputs": [
        {
          "output_type": "execute_result",
          "data": {
            "text/html": [
              "<div>\n",
              "<style scoped>\n",
              "    .dataframe tbody tr th:only-of-type {\n",
              "        vertical-align: middle;\n",
              "    }\n",
              "\n",
              "    .dataframe tbody tr th {\n",
              "        vertical-align: top;\n",
              "    }\n",
              "\n",
              "    .dataframe thead th {\n",
              "        text-align: right;\n",
              "    }\n",
              "</style>\n",
              "<table border=\"1\" class=\"dataframe\">\n",
              "  <thead>\n",
              "    <tr style=\"text-align: right;\">\n",
              "      <th></th>\n",
              "      <th>sales</th>\n",
              "      <th>price</th>\n",
              "      <th>ads</th>\n",
              "      <th>holiday</th>\n",
              "    </tr>\n",
              "  </thead>\n",
              "  <tbody>\n",
              "    <tr>\n",
              "      <th>1</th>\n",
              "      <td>350</td>\n",
              "      <td>5.5</td>\n",
              "      <td>3.3</td>\n",
              "      <td>0</td>\n",
              "    </tr>\n",
              "    <tr>\n",
              "      <th>2</th>\n",
              "      <td>460</td>\n",
              "      <td>7.5</td>\n",
              "      <td>3.3</td>\n",
              "      <td>1</td>\n",
              "    </tr>\n",
              "    <tr>\n",
              "      <th>3</th>\n",
              "      <td>350</td>\n",
              "      <td>8.0</td>\n",
              "      <td>3.0</td>\n",
              "      <td>0</td>\n",
              "    </tr>\n",
              "    <tr>\n",
              "      <th>4</th>\n",
              "      <td>430</td>\n",
              "      <td>8.0</td>\n",
              "      <td>4.5</td>\n",
              "      <td>1</td>\n",
              "    </tr>\n",
              "    <tr>\n",
              "      <th>5</th>\n",
              "      <td>350</td>\n",
              "      <td>6.8</td>\n",
              "      <td>3.0</td>\n",
              "      <td>0</td>\n",
              "    </tr>\n",
              "  </tbody>\n",
              "</table>\n",
              "</div>"
            ],
            "text/plain": [
              "   sales  price  ads  holiday\n",
              "1    350    5.5  3.3        0\n",
              "2    460    7.5  3.3        1\n",
              "3    350    8.0  3.0        0\n",
              "4    430    8.0  4.5        1\n",
              "5    350    6.8  3.0        0"
            ]
          },
          "metadata": {},
          "execution_count": 3
        }
      ]
    },
    {
      "cell_type": "code",
      "metadata": {
        "colab": {
          "base_uri": "https://localhost:8080/"
        },
        "id": "4e1nuWZJgmAF",
        "outputId": "66fffae4-7f84-434a-e754-420df9ffa3f7"
      },
      "source": [
        "# Run SKLearn Linear Regression Model \n",
        "from sklearn import linear_model\n",
        "\n",
        "predict_y = 'sales'\n",
        "dependent_x = ['price','ads','holiday'] \n",
        "\n",
        "y = df[predict_y]\n",
        "x = df[dependent_x]\n",
        "\n",
        "model = linear_model.LinearRegression()\n",
        "model.fit(x, y)\n",
        "\n",
        "r_sq = round(model.score(x,y), 2)\n",
        "print('R squared', r_sq)"
      ],
      "execution_count": null,
      "outputs": [
        {
          "output_type": "stream",
          "name": "stdout",
          "text": [
            "R squared 0.84\n"
          ]
        }
      ]
    },
    {
      "cell_type": "code",
      "metadata": {
        "colab": {
          "base_uri": "https://localhost:8080/"
        },
        "id": "qQroYsjLhUgG",
        "outputId": "800711cf-161b-4412-cd2e-e65c551c51a9"
      },
      "source": [
        "#print coefficeints \n",
        "for n in range(len(x.columns)):\n",
        "  print(x.columns[n], round(model.coef_[n], 2))\n",
        "\n",
        "print('intercept', round(model.intercept_, 2))"
      ],
      "execution_count": null,
      "outputs": [
        {
          "output_type": "stream",
          "name": "stdout",
          "text": [
            "price -17.29\n",
            "ads 16.34\n",
            "holiday 89.43\n",
            "intercept 415.1\n"
          ]
        }
      ]
    },
    {
      "cell_type": "code",
      "metadata": {
        "colab": {
          "base_uri": "https://localhost:8080/",
          "height": 206
        },
        "id": "9jAXd6PFhobO",
        "outputId": "2796fc74-e751-4bfd-80f3-78fb5c8ca538"
      },
      "source": [
        "#make predictions\n",
        "\n",
        "df['forecast'] = model.predict(x)\n",
        "df['forecast'] = df['forecast'].round().astype(int)\n",
        "df.head()\n",
        "\n",
        "#see how close the predictions were to the actuals based upon the model"
      ],
      "execution_count": null,
      "outputs": [
        {
          "output_type": "execute_result",
          "data": {
            "text/html": [
              "<div>\n",
              "<style scoped>\n",
              "    .dataframe tbody tr th:only-of-type {\n",
              "        vertical-align: middle;\n",
              "    }\n",
              "\n",
              "    .dataframe tbody tr th {\n",
              "        vertical-align: top;\n",
              "    }\n",
              "\n",
              "    .dataframe thead th {\n",
              "        text-align: right;\n",
              "    }\n",
              "</style>\n",
              "<table border=\"1\" class=\"dataframe\">\n",
              "  <thead>\n",
              "    <tr style=\"text-align: right;\">\n",
              "      <th></th>\n",
              "      <th>sales</th>\n",
              "      <th>price</th>\n",
              "      <th>ads</th>\n",
              "      <th>holiday</th>\n",
              "      <th>forecast</th>\n",
              "    </tr>\n",
              "  </thead>\n",
              "  <tbody>\n",
              "    <tr>\n",
              "      <th>1</th>\n",
              "      <td>350</td>\n",
              "      <td>5.5</td>\n",
              "      <td>3.3</td>\n",
              "      <td>0</td>\n",
              "      <td>374</td>\n",
              "    </tr>\n",
              "    <tr>\n",
              "      <th>2</th>\n",
              "      <td>460</td>\n",
              "      <td>7.5</td>\n",
              "      <td>3.3</td>\n",
              "      <td>1</td>\n",
              "      <td>429</td>\n",
              "    </tr>\n",
              "    <tr>\n",
              "      <th>3</th>\n",
              "      <td>350</td>\n",
              "      <td>8.0</td>\n",
              "      <td>3.0</td>\n",
              "      <td>0</td>\n",
              "      <td>326</td>\n",
              "    </tr>\n",
              "    <tr>\n",
              "      <th>4</th>\n",
              "      <td>430</td>\n",
              "      <td>8.0</td>\n",
              "      <td>4.5</td>\n",
              "      <td>1</td>\n",
              "      <td>440</td>\n",
              "    </tr>\n",
              "    <tr>\n",
              "      <th>5</th>\n",
              "      <td>350</td>\n",
              "      <td>6.8</td>\n",
              "      <td>3.0</td>\n",
              "      <td>0</td>\n",
              "      <td>347</td>\n",
              "    </tr>\n",
              "  </tbody>\n",
              "</table>\n",
              "</div>"
            ],
            "text/plain": [
              "   sales  price  ads  holiday  forecast\n",
              "1    350    5.5  3.3        0       374\n",
              "2    460    7.5  3.3        1       429\n",
              "3    350    8.0  3.0        0       326\n",
              "4    430    8.0  4.5        1       440\n",
              "5    350    6.8  3.0        0       347"
            ]
          },
          "metadata": {},
          "execution_count": 7
        }
      ]
    },
    {
      "cell_type": "code",
      "metadata": {
        "colab": {
          "base_uri": "https://localhost:8080/",
          "height": 400
        },
        "id": "VI9udW7niTQX",
        "outputId": "aaad2b3b-19c9-4885-b426-e07cf0ba0d60"
      },
      "source": [
        "#visualizing data\n",
        "\n",
        "#plot line chart with matplotlib\n",
        "\n",
        "import matplotlib.pyplot as plt\n",
        "\n",
        "df.plot(y=['sales', 'forecast'], kind = 'line', figsize = (10,5))\n",
        "\n",
        "plt.title('Forecast Sales by Price, Advertising & Holiday', y=1.12)\n",
        "plt.legend(loc=\"upper center\", bbox_to_anchor=(0.5, 1.12), ncol=2)\n",
        "plt.annotate(f'R-squared = {r_sq}', xy=(0.05, 0.90), xycoords='axes fraction')\n",
        "\n",
        "plt.xlabel('Week')\n",
        "plt.xticks(df.index) # force all x values to show\n",
        "plt.ylabel('Pie Sales ($1,000s)')"
      ],
      "execution_count": null,
      "outputs": [
        {
          "output_type": "execute_result",
          "data": {
            "text/plain": [
              "Text(0, 0.5, 'Pie Sales ($1,000s)')"
            ]
          },
          "metadata": {},
          "execution_count": 9
        },
        {
          "output_type": "display_data",
          "data": {
            "image/png": "[encoded data removed]",
            "text/plain": [
              "<Figure size 720x360 with 1 Axes>"
            ]
          },
          "metadata": {
            "needs_background": "light"
          }
        }
      ]
    }
  ]
}